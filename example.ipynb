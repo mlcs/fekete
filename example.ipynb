{
 "cells": [
  {
   "cell_type": "markdown",
   "metadata": {},
   "source": [
    "### Example usage of the Fekete points estimation algorithm\n",
    "\n",
    "\n",
    "Here, we first generate 100 points at random locations on the surface of the sphere and then use the algorithm from [Bendito et al.](https://doi.org/10.1016/j.jcp.2007.03.017) to estimate the Fekete points. We run the iterative algorithm for 10000 iterations and compare the final configuration to the initial one and also look at the error (proportional to the energy) of each configuration.\n"
   ]
  },
  {
   "cell_type": "code",
   "execution_count": 3,
   "metadata": {},
   "outputs": [
    {
     "ename": "ModuleNotFoundError",
     "evalue": "No module named 'numba'",
     "output_type": "error",
     "traceback": [
      "\u001b[0;31m---------------------------------------------------------------------------\u001b[0m",
      "\u001b[0;31mModuleNotFoundError\u001b[0m                       Traceback (most recent call last)",
      "\u001b[0;32m<ipython-input-3-06ee8aaa57e3>\u001b[0m in \u001b[0;36m<module>\u001b[0;34m\u001b[0m\n\u001b[0;32m----> 1\u001b[0;31m \u001b[0;32mimport\u001b[0m \u001b[0mnumba\u001b[0m\u001b[0;34m\u001b[0m\u001b[0;34m\u001b[0m\u001b[0m\n\u001b[0m\u001b[1;32m      2\u001b[0m \u001b[0;32mimport\u001b[0m \u001b[0mfekete\u001b[0m\u001b[0;34m\u001b[0m\u001b[0;34m\u001b[0m\u001b[0m\n\u001b[1;32m      3\u001b[0m \u001b[0;32mimport\u001b[0m \u001b[0mmatplotlib\u001b[0m\u001b[0;34m.\u001b[0m\u001b[0mpyplot\u001b[0m \u001b[0;32mas\u001b[0m \u001b[0mpl\u001b[0m\u001b[0;34m\u001b[0m\u001b[0;34m\u001b[0m\u001b[0m\n\u001b[1;32m      4\u001b[0m \u001b[0;34m\u001b[0m\u001b[0m\n\u001b[1;32m      5\u001b[0m \u001b[0;31m# Generate 100 points at random locations on surface of a sphere of unit radius\u001b[0m\u001b[0;34m\u001b[0m\u001b[0;34m\u001b[0m\u001b[0;34m\u001b[0m\u001b[0m\n",
      "\u001b[0;31mModuleNotFoundError\u001b[0m: No module named 'numba'"
     ]
    }
   ],
   "source": [
    "import numba\n",
    "import fekete\n",
    "import matplotlib.pyplot as pl\n",
    "\n",
    "# Generate 100 points at random locations on surface of a sphere of unit radius\n",
    "X = fekete.points_on_sphere(N=100)\n",
    "\n",
    "# estimate the Fekete points using the algorithm from Bendito et al. (2007) (up to 10000 iterations)\n",
    "Xeq, E = fekete.bendito(X=X, maxiter=10000)\n",
    "\n"
   ]
  },
  {
   "cell_type": "code",
   "execution_count": null,
   "metadata": {},
   "outputs": [],
   "source": [
    " fig1 = pl.figure(figsize=[10., 6.])\n",
    "    ax11 = fig1.add_axes([0.01, 0.01, 0.50, 0.90], projection='3d')\n",
    "    ax12 = fig1.add_axes([0.45, 0.01, 0.50, 0.90], projection='3d')\n",
    "    plot_voronoi_3d(X, ax11)\n",
    "    plot_voronoi_3d(Xeq, ax12)\n",
    "    for ax in fig1.axes:\n",
    "        ax.grid(False)\n",
    "        ax.set_axis_off()\n",
    "    pl.savefig(\"fekete_sphereplots.png\")\n",
    "\n",
    "    E = E[1:]\n",
    "    fig2 = pl.figure(figsize=[12., 6])\n",
    "    ax21 = fig2.add_subplot(1, 2, 1)\n",
    "    ax21.plot(E, c=\"steelblue\")\n",
    "    ax21.plot(uniform_filter1d(E, size=10), c=\"indianred\", ls=\"--\")\n",
    "    ax22 = fig2.add_subplot(1, 2, 2)\n",
    "    ax22.plot(np.abs(np.diff(E)), c=\"steelblue\")\n",
    "    for ax in fig2.axes:\n",
    "        ax.set_yscale(\"log\")"
   ]
  },
  {
   "cell_type": "code",
   "execution_count": null,
   "metadata": {},
   "outputs": [],
   "source": []
  }
 ],
 "metadata": {
  "kernelspec": {
   "display_name": "Python 3",
   "language": "python",
   "name": "python3"
  },
  "language_info": {
   "codemirror_mode": {
    "name": "ipython",
    "version": 3
   },
   "file_extension": ".py",
   "mimetype": "text/x-python",
   "name": "python",
   "nbconvert_exporter": "python",
   "pygments_lexer": "ipython3",
   "version": "3.8.5"
  }
 },
 "nbformat": 4,
 "nbformat_minor": 4
}
